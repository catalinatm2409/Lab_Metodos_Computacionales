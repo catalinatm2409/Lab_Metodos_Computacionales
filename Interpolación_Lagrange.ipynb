{
  "nbformat": 4,
  "nbformat_minor": 0,
  "metadata": {
    "colab": {
      "name": "Interpolación_Lagrange.ipynb",
      "provenance": []
    },
    "kernelspec": {
      "name": "python3",
      "display_name": "Python 3"
    },
    "language_info": {
      "name": "python"
    }
  },
  "cells": [
    {
      "cell_type": "code",
      "execution_count": 2,
      "metadata": {
        "id": "2jVAttOoxQgP"
      },
      "outputs": [],
      "source": [
        "import numpy as np\n",
        "import pandas as pd\n",
        "import sympy as sy\n",
        "import matplotlib.pyplot as plt"
      ]
    },
    {
      "cell_type": "markdown",
      "source": [
        "**PUNTO 1**"
      ],
      "metadata": {
        "id": "Vj_dLc3kyIOQ"
      }
    },
    {
      "cell_type": "code",
      "source": [
        "X=np.array([205,210,215])\n",
        "Y=np.array([1724.3,1907.7,2105.9])\n",
        "x=sy.symbols('x')\n",
        "\n",
        "def L0(x,X):\n",
        "  return (x-X[1])*(x-X[2])/((X[0]-X[1])*(X[0]-X[2]))\n",
        "\n",
        "def L1(x,X):\n",
        "  return (x-X[0])*(x-X[2])/((X[1]-X[0])*(X[1]-X[2]))\n",
        "\n",
        "def L2(x,X):\n",
        "  return (x-X[0])*(x-X[1])/((X[2]-X[0])*(X[2]-X[1]))\n",
        "\n",
        "def polinomio(x,X,Y):\n",
        "  return Y[0]*L0(x,X) + Y[1]*L1(x,X) + Y[2]*L2(x,X)\n",
        "      \n",
        "print(polinomio(x,X,Y))\n",
        "print(sy.expand(polinomio(x,X,Y)))"
      ],
      "metadata": {
        "id": "pbAo5loDxaXH",
        "outputId": "2e7cd4b8-7771-4610-e058-c765346fdbda",
        "colab": {
          "base_uri": "https://localhost:8080/"
        }
      },
      "execution_count": 3,
      "outputs": [
        {
          "output_type": "stream",
          "name": "stdout",
          "text": [
            "34.486*(x - 215)*(x - 210) - 76.308*(x - 215)*(x - 205) + 42.118*(x - 210)*(x - 205)\n",
            "0.295999999999992*x**2 - 86.1599999999962*x + 6947.69999999972\n"
          ]
        }
      ]
    },
    {
      "cell_type": "markdown",
      "source": [
        "**PUNTO 2**"
      ],
      "metadata": {
        "id": "VoIYURlGySpw"
      }
    },
    {
      "cell_type": "code",
      "source": [
        "#Método generalizado de calcular los coeficientes Li,\n",
        "def Li(n,i,x,X):\n",
        "  rta=1\n",
        "  for j in range(n):\n",
        "    if(i!=j):\n",
        "      rta = rta*(x-X[j])/(X[i]-X[j])\n",
        "  return rta\n",
        "\n",
        "#Método generalizado de calcular el polinomio de Lagrange.\n",
        "def pol(n,x,X,Y):\n",
        "  rta=0;\n",
        "  for j in range(n):\n",
        "    rta += Y[j]*Li(n,j,x,X)\n",
        "  return rta"
      ],
      "metadata": {
        "id": "aLAUPV_ZxfXa"
      },
      "execution_count": 4,
      "outputs": []
    },
    {
      "cell_type": "code",
      "source": [
        "datos=pd.read_csv(\"datos.csv\",delimiter=\";\",header=None, names=[\"T\",\"P\",\"vf\",\"vg\",\"uf\",\"ufg\",\"ug\",\"hf\",\"hfg\",\"hg\",\"sf\",\"sfg\",\"sg\"])\n",
        "print(datos)\n",
        "\n",
        "filas = len(datos.axes[0])\n",
        "\n",
        "T=datos['T'].values\n",
        "P=datos['P'].values\n",
        "\n",
        "#Almacena los datos en y de la interpolación en una lista que entra por parámetro, usando el polinomio de Lagrange.\n",
        "def polarizacion_y(n,X,Y,Z):\n",
        "  for i in range(n):\n",
        "    Z[i] = pol(n,X[i],X,Y)\n",
        "\n",
        "polarizacionP = np.zeros(filas)\n",
        "polarizacion_y(filas,T,P,polarizacionP)\n",
        "print(\"Polarizacion P\")\n",
        "tablaPT=[T,polarizacionP]\n",
        "print(tablaPT)"
      ],
      "metadata": {
        "colab": {
          "base_uri": "https://localhost:8080/"
        },
        "id": "7DWiRSGNxxqq",
        "outputId": "b264af6d-2f3c-48ec-8e06-901ffb0da3ef"
      },
      "execution_count": 6,
      "outputs": [
        {
          "output_type": "stream",
          "name": "stdout",
          "text": [
            "         T         P        vf          vg        uf     ufg      ug  \\\n",
            "0     0.01   0.61170  0.001000  206.000000     0.000  2374.9  2374.9   \n",
            "1     5.00   0.87125  0.001000  147.030000    21.019  2360.8  2381.8   \n",
            "2    10.00  12.28100  0.001000  106.320000    42.020  2346.6  2388.7   \n",
            "3    15.00  17.05700  0.001001   77.885000    62.980  2332.5  2395.5   \n",
            "4    20.00  23.39200  0.001002   57.762000    83.913  2318.4  2402.3   \n",
            "..     ...       ...       ...         ...       ...     ...     ...   \n",
            "71  355.00  17.57000  0.001808    0.007872  1682.200   706.4  2388.6   \n",
            "72  360.00  18.66600  0.001895    0.006950  1726.200   625.7  2351.9   \n",
            "73  365.00  19.82200  0.002015    0.006009  1777.200   526.4  2303.6   \n",
            "74  370.00  21.04400  0.002217    0.004953  1844.500   385.6  2230.1   \n",
            "75  373.95  22.06400  0.003106    0.003106  2015.700     0.0  2015.7   \n",
            "\n",
            "          hf     hfg      hg       sf      sfg      sg  \n",
            "0      0.001  2500.9  2500.9   0.0000  91.5560  91.556  \n",
            "1     21.020  2489.1  2510.1   0.0763  89.4870  90.249  \n",
            "2     42.022  2477.2  2519.2   0.1511  87.4880  88.999  \n",
            "3     62.982  2465.4  2528.3   0.2245  85.5590  87.803  \n",
            "4     83.915  2453.5  2537.4   0.2965  83.6960  86.661  \n",
            "..       ...     ...     ...      ...      ...     ...  \n",
            "71  1714.000   812.9  2526.9  38.4420  12.9420  51.384  \n",
            "72  1761.500   720.1  2481.6  39.1650  11.3730  50.537  \n",
            "73  1817.200   605.5  2422.7  40.0040   0.9489  49.493  \n",
            "74  1891.200   443.1  2334.3  41.1190   0.6890  48.009  \n",
            "75  2084.300     0.0  2084.3  44.0700   0.0000  44.070  \n",
            "\n",
            "[76 rows x 13 columns]\n",
            "Polarizacion P\n",
            "[array([1.0000e-02, 5.0000e+00, 1.0000e+01, 1.5000e+01, 2.0000e+01,\n",
            "       2.5000e+01, 3.0000e+01, 3.5000e+01, 4.0000e+01, 4.5000e+01,\n",
            "       5.0000e+01, 5.5000e+01, 6.0000e+01, 6.5000e+01, 7.0000e+01,\n",
            "       7.5000e+01, 8.0000e+01, 8.5000e+01, 9.0000e+01, 9.5000e+01,\n",
            "       1.0000e+02, 1.0500e+02, 1.1000e+02, 1.1500e+02, 1.2000e+02,\n",
            "       1.2500e+02, 1.3000e+02, 1.3500e+02, 1.4000e+02, 1.4500e+02,\n",
            "       1.5000e+02, 1.5500e+02, 1.6000e+02, 1.6500e+02, 1.7000e+02,\n",
            "       1.7500e+02, 1.8000e+02, 1.8500e+02, 1.9000e+02, 1.9500e+02,\n",
            "       2.0000e+02, 2.0500e+02, 2.1000e+02, 2.1500e+02, 2.2000e+02,\n",
            "       2.2500e+02, 2.3000e+02, 2.3500e+02, 2.4000e+02, 2.4500e+02,\n",
            "       2.5000e+02, 2.5500e+02, 2.6000e+02, 2.6500e+02, 2.7000e+02,\n",
            "       2.7500e+02, 2.8000e+02, 2.8500e+02, 2.9000e+02, 2.9500e+02,\n",
            "       3.0000e+02, 3.0500e+02, 3.1000e+02, 3.1500e+02, 3.2000e+02,\n",
            "       3.2500e+02, 3.3000e+02, 3.3500e+02, 3.4000e+02, 3.4500e+02,\n",
            "       3.5000e+02, 3.5500e+02, 3.6000e+02, 3.6500e+02, 3.7000e+02,\n",
            "       3.7395e+02]), array([6.1170e-01, 8.7125e-01, 1.2281e+01, 1.7057e+01, 2.3392e+01,\n",
            "       3.1698e+01, 4.2469e+01, 5.6291e+01, 7.3851e+01, 9.5953e+01,\n",
            "       1.2352e+01, 1.5763e+01, 1.9947e+01, 2.5043e+01, 3.1202e+01,\n",
            "       3.8597e+01, 4.7416e+01, 5.7868e+01, 7.0183e+01, 8.4609e+01,\n",
            "       1.0142e+02, 1.2090e+02, 1.4338e+02, 1.6918e+02, 1.9867e+02,\n",
            "       2.3223e+02, 2.7028e+02, 3.1322e+02, 3.6153e+02, 4.1568e+02,\n",
            "       4.7616e+02, 5.4349e+02, 6.1823e+02, 7.0093e+02, 7.9218e+02,\n",
            "       8.9260e+02, 1.0028e+03, 1.1235e+03, 1.2552e+03, 1.3988e+03,\n",
            "       1.5549e+03, 1.7243e+03, 1.9077e+03, 2.1059e+03, 2.3196e+03,\n",
            "       2.5497e+03, 2.7971e+03, 3.0626e+03, 3.3470e+03, 3.6512e+03,\n",
            "       3.9762e+03, 4.3229e+03, 4.6923e+03, 5.0853e+03, 5.5030e+03,\n",
            "       5.9464e+03, 6.4166e+03, 6.9146e+03, 7.4418e+03, 7.9990e+03,\n",
            "       8.5879e+03, 9.2094e+03, 9.8650e+03, 1.0556e+01, 1.1284e+01,\n",
            "       1.2051e+01, 1.2858e+01, 1.3707e+01, 1.4601e+01, 1.5541e+01,\n",
            "       1.6529e+01, 1.7570e+01, 1.8666e+01, 1.9822e+01, 2.1044e+01,\n",
            "       2.2064e+01])]\n"
          ]
        }
      ]
    },
    {
      "cell_type": "markdown",
      "source": [
        "**PUNTO 3**"
      ],
      "metadata": {
        "id": "ao1ZIJfh2cYm"
      }
    },
    {
      "cell_type": "code",
      "source": [
        "sg=datos['sg'].values\n",
        "\n",
        "polarizacionSg = np.zeros(filas)\n",
        "polarizacion_y(filas,T,sg,polarizacionSg)\n",
        "print(\"Polarizacion sg\")\n",
        "tablaSgT=[T,polarizacionSg]\n",
        "print(tablaSgT)\n"
      ],
      "metadata": {
        "colab": {
          "base_uri": "https://localhost:8080/"
        },
        "id": "8LxbYTWOzzdb",
        "outputId": "9858c088-7599-419d-d1e3-b29eb0d61a60"
      },
      "execution_count": 16,
      "outputs": [
        {
          "output_type": "stream",
          "name": "stdout",
          "text": [
            "Polarizacion sg\n",
            "[array([1.0000e-02, 5.0000e+00, 1.0000e+01, 1.5000e+01, 2.0000e+01,\n",
            "       2.5000e+01, 3.0000e+01, 3.5000e+01, 4.0000e+01, 4.5000e+01,\n",
            "       5.0000e+01, 5.5000e+01, 6.0000e+01, 6.5000e+01, 7.0000e+01,\n",
            "       7.5000e+01, 8.0000e+01, 8.5000e+01, 9.0000e+01, 9.5000e+01,\n",
            "       1.0000e+02, 1.0500e+02, 1.1000e+02, 1.1500e+02, 1.2000e+02,\n",
            "       1.2500e+02, 1.3000e+02, 1.3500e+02, 1.4000e+02, 1.4500e+02,\n",
            "       1.5000e+02, 1.5500e+02, 1.6000e+02, 1.6500e+02, 1.7000e+02,\n",
            "       1.7500e+02, 1.8000e+02, 1.8500e+02, 1.9000e+02, 1.9500e+02,\n",
            "       2.0000e+02, 2.0500e+02, 2.1000e+02, 2.1500e+02, 2.2000e+02,\n",
            "       2.2500e+02, 2.3000e+02, 2.3500e+02, 2.4000e+02, 2.4500e+02,\n",
            "       2.5000e+02, 2.5500e+02, 2.6000e+02, 2.6500e+02, 2.7000e+02,\n",
            "       2.7500e+02, 2.8000e+02, 2.8500e+02, 2.9000e+02, 2.9500e+02,\n",
            "       3.0000e+02, 3.0500e+02, 3.1000e+02, 3.1500e+02, 3.2000e+02,\n",
            "       3.2500e+02, 3.3000e+02, 3.3500e+02, 3.4000e+02, 3.4500e+02,\n",
            "       3.5000e+02, 3.5500e+02, 3.6000e+02, 3.6500e+02, 3.7000e+02,\n",
            "       3.7395e+02]), array([91.556, 90.249, 88.999, 87.803, 86.661, 85.567, 84.52 , 83.517,\n",
            "       82.556, 81.633, 80.748, 79.898, 79.082, 78.296, 77.54 , 76.812,\n",
            "       76.111, 75.435, 74.782, 74.151, 73.542, 72.952, 72.382, 71.829,\n",
            "       71.292, 70.771, 70.265, 69.773, 69.294, 68.827, 68.371, 67.927,\n",
            "       67.492, 67.067, 66.65 , 66.242, 65.841, 65.447, 65.059, 64.678,\n",
            "       64.302, 63.93 , 63.563, 63.2  , 62.84 , 62.483, 62.128, 61.775,\n",
            "       61.424, 61.072, 60.721, 60.369, 60.017, 59.662, 59.305, 58.944,\n",
            "       58.579, 58.21 , 57.834, 57.45 , 57.059, 56.657, 56.243, 55.816,\n",
            "       55.372, 54.908, 54.422, 53.907, 53.358, 52.765, 52.114, 51.384,\n",
            "       50.537, 49.493, 48.009, 44.07 ])]\n"
          ]
        }
      ]
    },
    {
      "cell_type": "markdown",
      "source": [
        "**PUNTO 4**"
      ],
      "metadata": {
        "id": "YJatp9RL2iVV"
      }
    },
    {
      "cell_type": "code",
      "source": [
        "sf=datos['sf'].values\n",
        "\n",
        "polarizacionSf = np.zeros(filas)\n",
        "polarizacion_y(filas,T,sf,polarizacionSf)\n",
        "print(\"Polarizacion sf\")\n",
        "tablaSfT=[T,polarizacionSf]\n",
        "print(tablaSfT)\n"
      ],
      "metadata": {
        "colab": {
          "base_uri": "https://localhost:8080/"
        },
        "id": "o9EbXzzcz6uA",
        "outputId": "c7beda42-679f-4848-f66e-fa88ae133fd4"
      },
      "execution_count": 8,
      "outputs": [
        {
          "output_type": "stream",
          "name": "stdout",
          "text": [
            "Polarizacion sf\n",
            "[array([1.0000e-02, 5.0000e+00, 1.0000e+01, 1.5000e+01, 2.0000e+01,\n",
            "       2.5000e+01, 3.0000e+01, 3.5000e+01, 4.0000e+01, 4.5000e+01,\n",
            "       5.0000e+01, 5.5000e+01, 6.0000e+01, 6.5000e+01, 7.0000e+01,\n",
            "       7.5000e+01, 8.0000e+01, 8.5000e+01, 9.0000e+01, 9.5000e+01,\n",
            "       1.0000e+02, 1.0500e+02, 1.1000e+02, 1.1500e+02, 1.2000e+02,\n",
            "       1.2500e+02, 1.3000e+02, 1.3500e+02, 1.4000e+02, 1.4500e+02,\n",
            "       1.5000e+02, 1.5500e+02, 1.6000e+02, 1.6500e+02, 1.7000e+02,\n",
            "       1.7500e+02, 1.8000e+02, 1.8500e+02, 1.9000e+02, 1.9500e+02,\n",
            "       2.0000e+02, 2.0500e+02, 2.1000e+02, 2.1500e+02, 2.2000e+02,\n",
            "       2.2500e+02, 2.3000e+02, 2.3500e+02, 2.4000e+02, 2.4500e+02,\n",
            "       2.5000e+02, 2.5500e+02, 2.6000e+02, 2.6500e+02, 2.7000e+02,\n",
            "       2.7500e+02, 2.8000e+02, 2.8500e+02, 2.9000e+02, 2.9500e+02,\n",
            "       3.0000e+02, 3.0500e+02, 3.1000e+02, 3.1500e+02, 3.2000e+02,\n",
            "       3.2500e+02, 3.3000e+02, 3.3500e+02, 3.4000e+02, 3.4500e+02,\n",
            "       3.5000e+02, 3.5500e+02, 3.6000e+02, 3.6500e+02, 3.7000e+02,\n",
            "       3.7395e+02]), array([ 0.    ,  0.0763,  0.1511,  0.2245,  0.2965,  0.3672,  0.4368,\n",
            "        0.5051,  0.5724,  0.6386,  0.7038,  0.768 ,  0.8313,  0.8937,\n",
            "        0.9551, 10.158 , 10.756 , 11.346 , 11.929 , 12.504 , 13.072 ,\n",
            "       13.634 , 14.188 , 14.737 , 15.279 , 15.816 , 16.346 , 16.872 ,\n",
            "       17.392 , 17.908 , 18.418 , 18.924 , 19.426 , 19.923 , 20.417 ,\n",
            "       20.906 , 21.392 , 21.875 , 22.355 , 22.831 , 23.305 , 23.776 ,\n",
            "       24.245 , 24.712 , 25.176 , 25.639 , 26.1   , 26.56  , 27.018 ,\n",
            "       27.476 , 27.933 , 28.39  , 28.847 , 29.304 , 29.762 , 30.221 ,\n",
            "       30.681 , 31.144 , 31.608 , 32.076 , 32.548 , 33.024 , 33.506 ,\n",
            "       33.994 , 34.491 , 34.998 , 35.516 , 36.05  , 36.602 , 37.179 ,\n",
            "       37.788 , 38.442 , 39.165 , 40.004 , 41.119 , 44.07  ])]\n"
          ]
        }
      ]
    },
    {
      "cell_type": "markdown",
      "source": [
        "**PUNTO 5**"
      ],
      "metadata": {
        "id": "lMYwY-J73Bde"
      }
    },
    {
      "cell_type": "code",
      "source": [
        "plt.plot(tablaPT[0],tablaPT[1],'go--',label='Interpolación')\n",
        "plt.plot(T,P,'b',label='Exacta')\n",
        "plt.xlabel('Temperatura [°C]')\n",
        "plt.ylabel('Presión [kPa]')\n",
        "plt.title('Interpolación de datos P vs T')\n",
        "plt.legend(loc='upper left')\n",
        "plt.show()\n",
        "\n",
        "plt.plot(tablaSgT[0],tablaSgT[1],'go--',label='Interpolación')\n",
        "plt.plot(T,sg,'b',label='Exacta')\n",
        "plt.xlabel('Temperatura [°C]')\n",
        "plt.ylabel('Entropía [kJ/kg K]')\n",
        "plt.title('Interpolación de datos sg vs T')\n",
        "plt.legend(loc='lower left')\n",
        "plt.show()\n",
        "\n",
        "plt.plot(tablaSfT[0],tablaSfT[1],'go--',label='Interpolación')\n",
        "plt.plot(T,sf,'b',label='Exacta')\n",
        "plt.xlabel('Temperatura [°C]')\n",
        "plt.ylabel('Entropía [kJ/kg K]')\n",
        "plt.title('Interpolación de datos sf vs T')\n",
        "plt.legend(loc='upper left')\n",
        "plt.show()"
      ],
      "metadata": {
        "colab": {
          "base_uri": "https://localhost:8080/",
          "height": 851
        },
        "id": "i_8BL5O73Fkf",
        "outputId": "85d67fa2-013c-445e-fa19-ed13d4417711"
      },
      "execution_count": 18,
      "outputs": [
        {
          "output_type": "display_data",
          "data": {
            "text/plain": [
              "<Figure size 432x288 with 1 Axes>"
            ],
            "image/png": "[encoded data removed]"
          },
          "metadata": {
            "needs_background": "light"
          }
        },
        {
          "output_type": "display_data",
          "data": {
            "text/plain": [
              "<Figure size 432x288 with 1 Axes>"
            ],
            "image/png": "[encoded data removed]"
          },
          "metadata": {
            "needs_background": "light"
          }
        },
        {
          "output_type": "display_data",
          "data": {
            "text/plain": [
              "<Figure size 432x288 with 1 Axes>"
            ],
            "image/png": "[encoded data removed]"
          },
          "metadata": {
            "needs_background": "light"
          }
        }
      ]
    }
  ]
}